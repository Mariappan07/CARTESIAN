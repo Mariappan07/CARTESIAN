{
  "nbformat": 4,
  "nbformat_minor": 0,
  "metadata": {
    "colab": {
      "name": "cartesian python task.ipynb",
      "provenance": [],
      "collapsed_sections": []
    },
    "kernelspec": {
      "name": "python3",
      "display_name": "Python 3"
    },
    "language_info": {
      "name": "python"
    }
  },
  "cells": [
    {
      "cell_type": "markdown",
      "source": [
        "**The problem Statement**\n",
        "\n",
        "\n",
        "**The program takes input a short abstract and outputs the following**\n"
      ],
      "metadata": {
        "id": "uVlT3g9E6vyW"
      }
    },
    {
      "cell_type": "markdown",
      "source": [
        "**1.prints each word in reverse.**  "
      ],
      "metadata": {
        "id": "LtkK8prHB-MD"
      }
    },
    {
      "cell_type": "markdown",
      "source": [
        "**Sample Input:**\n",
        "\n",
        "\n",
        "This declaration represents a political commitment among declaration partners to advance a positive vision for the Internet in this era of a united europe\n",
        "\n",
        "\n",
        "**Sample Output:** \n",
        "\n",
        "Printing word in reverse\n",
        "\n",
        "Europe of century 21st of era this in Internet the for vision positive a advance to partners declaration among commitment political a represents declaration this\n"
      ],
      "metadata": {
        "id": "30MgWs2t6vCL"
      }
    },
    {
      "cell_type": "markdown",
      "source": [
        "**using reversed() function**"
      ],
      "metadata": {
        "id": "uOHorEmOAzRp"
      }
    },
    {
      "cell_type": "code",
      "source": [
        "a=input()                     #input string\n",
        "b=a.split()                   #splitting the string on space \n",
        "b=list(reversed(b))           #Reversing the strinmg using reversed() function\n",
        "print(\" \".join(b))            #joining the string and printing"
      ],
      "metadata": {
        "colab": {
          "base_uri": "https://localhost:8080/"
        },
        "id": "IFttZ9IR7vML",
        "outputId": "513ce307-39c9-427a-d3ff-1df6c64fd503"
      },
      "execution_count": null,
      "outputs": [
        {
          "output_type": "stream",
          "name": "stdout",
          "text": [
            "This declaration represents a political commitment among declaration partners to advance a positive vision for the Internet in this era of a united europe\n",
            "europe united a of era this in Internet the for vision positive a advance to partners declaration among commitment political a represents declaration This\n"
          ]
        }
      ]
    },
    {
      "cell_type": "markdown",
      "source": [
        "**using list and loop**"
      ],
      "metadata": {
        "id": "ket4fftO_k08"
      }
    },
    {
      "cell_type": "code",
      "source": [
        "a=input()                     #input string\n",
        "b=a.split()[::-1]             #splitting the string and reversing\n",
        "l=[]                          #creating a list\n",
        "for i in b:                  \n",
        "  l.append(i)                 #apending reversed words to list\n",
        "print(\" \".join(b))            #printing the reversed words"
      ],
      "metadata": {
        "colab": {
          "base_uri": "https://localhost:8080/"
        },
        "id": "m2dmRP0281E9",
        "outputId": "ac648426-15c4-4922-97c2-183032004fe5"
      },
      "execution_count": null,
      "outputs": [
        {
          "output_type": "stream",
          "name": "stdout",
          "text": [
            "This declaration represents a political commitment among declaration partners to advance a positive vision for the Internet in this era of a united europe\n",
            "europe united a of era this in Internet the for vision positive a advance to partners declaration among commitment political a represents declaration This\n"
          ]
        }
      ]
    },
    {
      "cell_type": "markdown",
      "source": [
        "**Problem 2**"
      ],
      "metadata": {
        "id": "9nkzxEaTBttg"
      }
    },
    {
      "cell_type": "markdown",
      "source": [
        "**2. prints top 2 occurring words in sorted order. The words that have occurred most of the time.**"
      ],
      "metadata": {
        "id": "PXaQLlArBwkU"
      }
    },
    {
      "cell_type": "markdown",
      "source": [
        "**Sample Input:**\n",
        "\n",
        "\n",
        "This declaration represents a political commitment among declaration partners to advance a positive vision for the Internet in this era of a united europe"
      ],
      "metadata": {
        "id": "SAtlQE6wCYWw"
      }
    },
    {
      "cell_type": "markdown",
      "source": [
        "**Sample Output:**\n",
        "\n",
        "Occurrence of words \n",
        "\n",
        "\n",
        "a \t: 3 times\n",
        "\n",
        "\n",
        "this \t: 2 times\n"
      ],
      "metadata": {
        "id": "aoitewveCHad"
      }
    },
    {
      "cell_type": "code",
      "source": [
        "from collections import Counter               #importing a counter from collection\n",
        "a=input()                                     #input string\n",
        "x=a.lower()                                   \n",
        "y=x.split()                                   #splitting the string\n",
        "Counter = Counter(y)\n",
        "z=Counter.most_common(2)                      #counting the most common words\n",
        "print(*z)                                     #printing the words and count"
      ],
      "metadata": {
        "id": "S0XmNVi7Alxh",
        "colab": {
          "base_uri": "https://localhost:8080/"
        },
        "outputId": "2736e7e8-292a-47c9-e391-4ea73bd64ff8"
      },
      "execution_count": 6,
      "outputs": [
        {
          "output_type": "stream",
          "name": "stdout",
          "text": [
            "This declaration represents a political commitment among declaration partners to advance a positive vision for the Internet in this era of a united europe\n",
            "('a', 3) ('this', 2)\n"
          ]
        }
      ]
    },
    {
      "cell_type": "code",
      "source": [],
      "metadata": {
        "id": "WnTA1k67AGHw"
      },
      "execution_count": null,
      "outputs": []
    }
  ]
}